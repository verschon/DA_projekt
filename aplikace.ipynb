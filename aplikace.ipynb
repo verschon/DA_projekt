{
 "cells": [
  {
   "cell_type": "code",
   "execution_count": null,
   "metadata": {},
   "outputs": [],
   "source": [
    "import pyodbc\n",
    "import pandas as pd\n",
    "import matplotlib.pyplot as plt"
   ]
  },
  {
   "cell_type": "code",
   "execution_count": null,
   "metadata": {},
   "outputs": [],
   "source": [
    "conn = pyodbc.connect(\n",
    "    'Driver={SQL Server};'\n",
    "    'Server=NTB-DLZN712\\SQLEXPRESS;'\n",
    "    'Database=Projekt_1;'\n",
    "    'Trusted_Connection=yes;'\n",
    ")"
   ]
  },
  {
   "cell_type": "code",
   "execution_count": null,
   "metadata": {},
   "outputs": [],
   "source": [
    "sql_query_shipments = \"\"\"SELECT [Číslo zásilky], [Datum zpracování] FROM zasilky\"\"\"\n",
    "df_shipments = pd.read_sql(sql_query_shipments, conn)\n",
    "sql_query_working_days = \"\"\"SELECT * FROM [Seznam pracovních dnů]\"\"\"\n",
    "df_working_days = pd.read_sql(sql_query_working_days, conn)"
   ]
  },
  {
   "cell_type": "code",
   "execution_count": null,
   "metadata": {},
   "outputs": [],
   "source": [
    "df_shipments = df_shipments.rename(columns={'Číslo zásilky': 'Shipments_no', 'Datum zpracování': 'Processing_date'})\n",
    "df_shipments = df_shipments.groupby('Processing_date')[['Shipments_no']].count().reset_index()\n",
    "df_shipments['Month/day'] = df_shipments['Processing_date'].dt.strftime('%m/%d')\n",
    "df_shipments = df_shipments.groupby('Month/day')[['Shipments_no']].mean().round(2).reset_index()\n"
   ]
  },
  {
   "cell_type": "code",
   "execution_count": null,
   "metadata": {},
   "outputs": [],
   "source": [
    "#promena- streamlit\n",
    "year = 2022\n",
    "df_working_days['Year'] = pd.DatetimeIndex(df_working_days['Datum']).year\n",
    "df_working_days['Month/day'] = df_working_days['Datum'].dt.strftime('%m/%d')\n",
    "df_working_days['Week_no'] = df_working_days['Datum'].dt.isocalendar().week\n",
    "df_wd_year = df_working_days[(df_working_days['Year'] == year)]"
   ]
  },
  {
   "cell_type": "code",
   "execution_count": null,
   "metadata": {},
   "outputs": [],
   "source": [
    "df_final_day = pd.merge(df_wd_year, df_shipments, on=['Month/day'])"
   ]
  },
  {
   "cell_type": "code",
   "execution_count": null,
   "metadata": {},
   "outputs": [],
   "source": [
    "df_final_week = df_final_day.groupby('Week_no')[['Shipments_no']].mean().round(2)\n",
    "df_final_week['Shipments_no'].plot.bar(\n",
    "    figsize=(30,8),\n",
    "    color=\"orange\",\n",
    "    edgecolor=\"#256354\",\n",
    "    title=\"Počet zpracovaných zásilek\"\n",
    "\n",
    ");"
   ]
  },
  {
   "cell_type": "code",
   "execution_count": null,
   "metadata": {},
   "outputs": [],
   "source": [
    "#vyselektování kompletních týdnů v roce\n",
    "week_count = df_final_day['Week_no'].value_counts().sort_index()\n",
    "df_final_wholeweek = df_final_week.assign(Week_count = week_count)\n",
    "df_final_wholeweek = df_final_wholeweek[df_final_wholeweek['Week_count'] == 5]\n",
    "#df_final_week - index je číslo týdne v roce"
   ]
  },
  {
   "cell_type": "code",
   "execution_count": null,
   "metadata": {},
   "outputs": [],
   "source": [
    "#promenne streamlit\n",
    "whole_week_no = 4 #pocet celých týdnů\n",
    "mode ='Mód 2' #minimální hodntoy - workoholik mod\n",
    "days_rest = 5\n",
    "\n",
    "#kopie prto urceni dnů a týdnů\n",
    "df_final_wholeweek_copy = df_final_wholeweek.copy()\n",
    "df_final_day_copy = df_final_day.copy()"
   ]
  },
  {
   "cell_type": "code",
   "execution_count": null,
   "metadata": {},
   "outputs": [],
   "source": [
    "#urceni týdnů\n",
    "result_week_list = []\n",
    "for i in range(whole_week_no):\n",
    "    if mode =='Mód 1':\n",
    "        result_week = df_final_wholeweek_copy['Shipments_no'].idxmin()\n",
    "        df_final_wholeweek_copy = df_final_wholeweek_copy.drop(result_week)\n",
    "        df_final_day_copy.drop(df_final_day_copy[df_final_day_copy['Week_no'] == result_week].index, inplace = True)\n",
    "        result_week_list.append(result_week)\n",
    "    else:\n",
    "        result_week = df_final_wholeweek_copy['Shipments_no'].idxmax()\n",
    "        df_final_wholeweek_copy = df_final_wholeweek_copy.drop(result_week)\n",
    "        df_final_day_copy.drop(df_final_day_copy[df_final_day_copy['Week_no'] == result_week].index, inplace = True)\n",
    "        result_week_list.append(result_week)"
   ]
  },
  {
   "cell_type": "code",
   "execution_count": null,
   "metadata": {},
   "outputs": [],
   "source": [
    "#urceni dnů\n",
    "result_days_list = []\n",
    "for i in range(days_rest):\n",
    "    if mode =='Mód 1':\n",
    "        result_day_index = df_final_day_copy['Shipments_no'].idxmin()\n",
    "        result_day = df_final_day_copy.at[result_day_index, 'Datum']\n",
    "        df_final_day_copy.drop(df_final_day_copy[df_final_day_copy['Datum'] == result_day].index, inplace = True)\n",
    "        result_day = result_day.date()\n",
    "        result_days_list.append(result_day)\n",
    "    else:\n",
    "        result_day_index = df_final_day_copy['Shipments_no'].idxmax()\n",
    "        result_day = df_final_day_copy.at[result_day_index, 'Datum']\n",
    "        df_final_day_copy.drop(df_final_day_copy[df_final_day_copy['Datum'] == result_day].index, inplace = True)\n",
    "        result_day = result_day.date()\n",
    "        result_days_list.append(result_day)\n",
    "        \n"
   ]
  }
 ],
 "metadata": {
  "interpreter": {
   "hash": "caea23ac303336bb6fd79e598e550cab7e4791ba8746a4b2e250ee016c479198"
  },
  "kernelspec": {
   "display_name": "Python 3 (ipykernel)",
   "language": "python",
   "name": "python3"
  },
  "language_info": {
   "codemirror_mode": {
    "name": "ipython",
    "version": 3
   },
   "file_extension": ".py",
   "mimetype": "text/x-python",
   "name": "python",
   "nbconvert_exporter": "python",
   "pygments_lexer": "ipython3",
   "version": "3.10.2"
  }
 },
 "nbformat": 4,
 "nbformat_minor": 4
}
