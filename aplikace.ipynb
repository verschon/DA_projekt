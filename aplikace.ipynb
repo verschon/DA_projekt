{
 "cells": [
  {
   "cell_type": "code",
   "execution_count": 20,
   "metadata": {},
   "outputs": [],
   "source": [
    "import pyodbc\n",
    "import pandas as pd\n",
    "import matplotlib.pyplot as plt"
   ]
  },
  {
   "cell_type": "code",
   "execution_count": 21,
   "metadata": {},
   "outputs": [],
   "source": [
    "conn = pyodbc.connect(\n",
    "    'Driver={SQL Server};'\n",
    "    'Server=NTB-DLZN712\\SQLEXPRESS;'\n",
    "    'Database=Projekt_1;'\n",
    "    'Trusted_Connection=yes;'\n",
    ")"
   ]
  },
  {
   "cell_type": "code",
   "execution_count": 22,
   "metadata": {},
   "outputs": [
    {
     "name": "stderr",
     "output_type": "stream",
     "text": [
      "c:\\Users\\hcerna\\AppData\\Local\\Programs\\Python\\Python310\\lib\\site-packages\\pandas\\io\\sql.py:761: UserWarning: pandas only support SQLAlchemy connectable(engine/connection) ordatabase string URI or sqlite3 DBAPI2 connectionother DBAPI2 objects are not tested, please consider using SQLAlchemy\n",
      "  warnings.warn(\n",
      "c:\\Users\\hcerna\\AppData\\Local\\Programs\\Python\\Python310\\lib\\site-packages\\pandas\\io\\sql.py:761: UserWarning: pandas only support SQLAlchemy connectable(engine/connection) ordatabase string URI or sqlite3 DBAPI2 connectionother DBAPI2 objects are not tested, please consider using SQLAlchemy\n",
      "  warnings.warn(\n"
     ]
    }
   ],
   "source": [
    "sql_query_shipments = \"\"\"SELECT [Číslo zásilky], [Datum zpracování] FROM zasilky\"\"\"\n",
    "df_shipments = pd.read_sql(sql_query_shipments, conn)\n",
    "sql_query_working_days = \"\"\"SELECT * FROM [Seznam pracovních dnů]\"\"\"\n",
    "df_working_days = pd.read_sql(sql_query_working_days, conn)"
   ]
  },
  {
   "cell_type": "code",
   "execution_count": 24,
   "metadata": {},
   "outputs": [],
   "source": [
    "df_shipments = df_shipments.rename(columns={'Číslo zásilky': 'Shipments_no', 'Datum zpracování': 'Processing_date'})\n",
    "df_shipments = df_shipments.groupby('Processing_date')[['Shipments_no']].count().reset_index()\n",
    "df_shipments['Month/day'] = df_shipments['Processing_date'].dt.strftime('%m/%d')\n",
    "df_shipments = df_shipments.groupby('Month/day')[['Shipments_no']].mean().round(2).reset_index()\n"
   ]
  },
  {
   "cell_type": "code",
   "execution_count": 25,
   "metadata": {},
   "outputs": [],
   "source": [
    "year = 2022\n",
    "df_working_days['Year'] = pd.DatetimeIndex(df_working_days['Datum']).year\n",
    "df_working_days['Month/day'] = df_working_days['Datum'].dt.strftime('%m/%d')\n",
    "df_working_days['Week_no'] = df_working_days['Datum'].dt.isocalendar().week\n",
    "df_wd_year = df_working_days[(df_working_days['Year'] == year)]"
   ]
  },
  {
   "cell_type": "code",
   "execution_count": 26,
   "metadata": {},
   "outputs": [
    {
     "data": {
      "text/html": [
       "<div>\n",
       "<style scoped>\n",
       "    .dataframe tbody tr th:only-of-type {\n",
       "        vertical-align: middle;\n",
       "    }\n",
       "\n",
       "    .dataframe tbody tr th {\n",
       "        vertical-align: top;\n",
       "    }\n",
       "\n",
       "    .dataframe thead th {\n",
       "        text-align: right;\n",
       "    }\n",
       "</style>\n",
       "<table border=\"1\" class=\"dataframe\">\n",
       "  <thead>\n",
       "    <tr style=\"text-align: right;\">\n",
       "      <th></th>\n",
       "      <th>Datum</th>\n",
       "      <th>Year</th>\n",
       "      <th>Month/day</th>\n",
       "      <th>Week_no</th>\n",
       "      <th>Shipments_no</th>\n",
       "    </tr>\n",
       "  </thead>\n",
       "  <tbody>\n",
       "    <tr>\n",
       "      <th>0</th>\n",
       "      <td>2022-01-03</td>\n",
       "      <td>2022</td>\n",
       "      <td>01/03</td>\n",
       "      <td>1</td>\n",
       "      <td>261.00</td>\n",
       "    </tr>\n",
       "    <tr>\n",
       "      <th>1</th>\n",
       "      <td>2022-01-04</td>\n",
       "      <td>2022</td>\n",
       "      <td>01/04</td>\n",
       "      <td>1</td>\n",
       "      <td>320.00</td>\n",
       "    </tr>\n",
       "    <tr>\n",
       "      <th>2</th>\n",
       "      <td>2022-01-05</td>\n",
       "      <td>2022</td>\n",
       "      <td>01/05</td>\n",
       "      <td>1</td>\n",
       "      <td>213.33</td>\n",
       "    </tr>\n",
       "    <tr>\n",
       "      <th>3</th>\n",
       "      <td>2022-01-06</td>\n",
       "      <td>2022</td>\n",
       "      <td>01/06</td>\n",
       "      <td>1</td>\n",
       "      <td>425.67</td>\n",
       "    </tr>\n",
       "    <tr>\n",
       "      <th>4</th>\n",
       "      <td>2022-01-07</td>\n",
       "      <td>2022</td>\n",
       "      <td>01/07</td>\n",
       "      <td>1</td>\n",
       "      <td>401.33</td>\n",
       "    </tr>\n",
       "    <tr>\n",
       "      <th>...</th>\n",
       "      <td>...</td>\n",
       "      <td>...</td>\n",
       "      <td>...</td>\n",
       "      <td>...</td>\n",
       "      <td>...</td>\n",
       "    </tr>\n",
       "    <tr>\n",
       "      <th>246</th>\n",
       "      <td>2022-12-22</td>\n",
       "      <td>2022</td>\n",
       "      <td>12/22</td>\n",
       "      <td>51</td>\n",
       "      <td>73.33</td>\n",
       "    </tr>\n",
       "    <tr>\n",
       "      <th>247</th>\n",
       "      <td>2022-12-23</td>\n",
       "      <td>2022</td>\n",
       "      <td>12/23</td>\n",
       "      <td>51</td>\n",
       "      <td>54.00</td>\n",
       "    </tr>\n",
       "    <tr>\n",
       "      <th>248</th>\n",
       "      <td>2022-12-27</td>\n",
       "      <td>2022</td>\n",
       "      <td>12/27</td>\n",
       "      <td>52</td>\n",
       "      <td>30.00</td>\n",
       "    </tr>\n",
       "    <tr>\n",
       "      <th>249</th>\n",
       "      <td>2022-12-28</td>\n",
       "      <td>2022</td>\n",
       "      <td>12/28</td>\n",
       "      <td>52</td>\n",
       "      <td>29.00</td>\n",
       "    </tr>\n",
       "    <tr>\n",
       "      <th>250</th>\n",
       "      <td>2022-12-29</td>\n",
       "      <td>2022</td>\n",
       "      <td>12/29</td>\n",
       "      <td>52</td>\n",
       "      <td>62.33</td>\n",
       "    </tr>\n",
       "  </tbody>\n",
       "</table>\n",
       "<p>251 rows × 5 columns</p>\n",
       "</div>"
      ],
      "text/plain": [
       "         Datum  Year Month/day  Week_no  Shipments_no\n",
       "0   2022-01-03  2022     01/03        1        261.00\n",
       "1   2022-01-04  2022     01/04        1        320.00\n",
       "2   2022-01-05  2022     01/05        1        213.33\n",
       "3   2022-01-06  2022     01/06        1        425.67\n",
       "4   2022-01-07  2022     01/07        1        401.33\n",
       "..         ...   ...       ...      ...           ...\n",
       "246 2022-12-22  2022     12/22       51         73.33\n",
       "247 2022-12-23  2022     12/23       51         54.00\n",
       "248 2022-12-27  2022     12/27       52         30.00\n",
       "249 2022-12-28  2022     12/28       52         29.00\n",
       "250 2022-12-29  2022     12/29       52         62.33\n",
       "\n",
       "[251 rows x 5 columns]"
      ]
     },
     "execution_count": 26,
     "metadata": {},
     "output_type": "execute_result"
    }
   ],
   "source": [
    "df_final_day = pd.merge(df_wd_year, df_shipments, on=['Month/day'])\n",
    "df_final_day"
   ]
  },
  {
   "cell_type": "code",
   "execution_count": 27,
   "metadata": {},
   "outputs": [
    {
     "data": {
      "image/png": "[encoded data removed]",
      "text/plain": [
       "<Figure size 2160x576 with 1 Axes>"
      ]
     },
     "metadata": {
      "needs_background": "light"
     },
     "output_type": "display_data"
    }
   ],
   "source": [
    "df_final_week = df_final_day.groupby('Week_no')[['Shipments_no']].mean().round(2)\n",
    "df_final_week['Shipments_no'].plot.bar(\n",
    "    figsize=(30,8),\n",
    "    color=\"orange\",\n",
    "    edgecolor=\"#256354\",\n",
    "    title=\"Počet zpracovaných zásilek\"\n",
    "\n",
    ");"
   ]
  },
  {
   "cell_type": "code",
   "execution_count": 57,
   "metadata": {},
   "outputs": [],
   "source": [
    "list_day = df_final_day.reset_index().values.tolist()\n",
    "list_week = df_final_week.reset_index().values.tolist()"
   ]
  }
 ],
 "metadata": {
  "interpreter": {
   "hash": "caea23ac303336bb6fd79e598e550cab7e4791ba8746a4b2e250ee016c479198"
  },
  "kernelspec": {
   "display_name": "Python 3 (ipykernel)",
   "language": "python",
   "name": "python3"
  },
  "language_info": {
   "codemirror_mode": {
    "name": "ipython",
    "version": 3
   },
   "file_extension": ".py",
   "mimetype": "text/x-python",
   "name": "python",
   "nbconvert_exporter": "python",
   "pygments_lexer": "ipython3",
   "version": "3.10.2"
  }
 },
 "nbformat": 4,
 "nbformat_minor": 4
}
